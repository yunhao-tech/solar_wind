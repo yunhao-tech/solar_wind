{
 "cells": [
  {
   "cell_type": "code",
   "execution_count": 9,
   "id": "3137d85d-92e5-4bcf-b9f6-6d277a91b53d",
   "metadata": {},
   "outputs": [],
   "source": [
    "%matplotlib inline\n",
    "\n",
    "import numpy as np\n",
    "import pandas as pd\n",
    "import matplotlib.pyplot as plt\n",
    "\n",
    "from sklearn.metrics import log_loss, classification_report"
   ]
  },
  {
   "cell_type": "code",
   "execution_count": 7,
   "id": "72978cc3-3f74-4952-b067-df38c1a6f911",
   "metadata": {},
   "outputs": [],
   "source": [
    "from problem import get_train_data, get_test_data\n",
    "\n",
    "data_train, labels_train = get_train_data()\n",
    "data_test, labels_test = get_test_data()"
   ]
  },
  {
   "cell_type": "markdown",
   "id": "bf03de4a-3c11-4e97-9006-570e063a5294",
   "metadata": {},
   "source": [
    "# Model"
   ]
  },
  {
   "cell_type": "code",
   "execution_count": 25,
   "id": "f510d0ba-c2ae-4e30-825c-c5963af402e0",
   "metadata": {},
   "outputs": [],
   "source": [
    "from sklearn.base import BaseEstimator\n",
    "from sklearn.pipeline import make_pipeline\n",
    "from sklearn.preprocessing import StandardScaler\n",
    "from sklearn.linear_model import LogisticRegression\n",
    "import numpy as np\n",
    "\n",
    "\n",
    "def compute_rolling_std(X_df, features, time_window, center=False):\n",
    "    for feature in features:\n",
    "        name = \"_\".join([feature, time_window, \"std\"])\n",
    "        X_df[name] = X_df[feature].rolling(time_window, center=center).std()\n",
    "        X_df[name] = X_df[name].ffill().bfill()\n",
    "        X_df[name] = X_df[name].astype(X_df[feature].dtype)\n",
    "    return X_df\n",
    "\n",
    "def add_features(X_df):\n",
    "    Alfven_Mach_number = X_df['V'] * 1e12 * np.sqrt(X_df['Np'] * 1.7e-27 * 1e6) * np.sqrt(4e-7*np.pi) / X_df['B']\n",
    "    raw_pressure = X_df['V']**2 * X_df['Np'] * 1.7e-27 * 1e12 * 1e9\n",
    "    X_df['AMach_number'] = Alfven_Mach_number\n",
    "    X_df['raw_pressure'] = raw_pressure\n",
    "    return X_df\n",
    "\n",
    "class FeatureExtractor(BaseEstimator):\n",
    "    def fit(self, X, y):\n",
    "        return self\n",
    "\n",
    "    def transform(self, X):\n",
    "        X = add_features(X)\n",
    "        return compute_rolling_std(X, [\"Beta\", \"Vth\", \"B\", \"Bx\", \"Bz\"], \"2h\")\n",
    "\n",
    "def get_estimator():\n",
    "\n",
    "    feature_extractor = FeatureExtractor()\n",
    "    classifier = LogisticRegression(max_iter=1000)\n",
    "    pipe = make_pipeline(feature_extractor, StandardScaler(), classifier)\n",
    "    return pipe"
   ]
  },
  {
   "cell_type": "code",
   "execution_count": 26,
   "id": "ccaed0b6-c179-4fe8-8c5d-6560daac736b",
   "metadata": {},
   "outputs": [],
   "source": [
    "model = get_estimator()"
   ]
  },
  {
   "cell_type": "code",
   "execution_count": 22,
   "id": "93b5cb76-4607-4c0a-9730-6ce9d38e972e",
   "metadata": {},
   "outputs": [
    {
     "data": {
      "text/html": [
       "<style>#sk-container-id-2 {color: black;background-color: white;}#sk-container-id-2 pre{padding: 0;}#sk-container-id-2 div.sk-toggleable {background-color: white;}#sk-container-id-2 label.sk-toggleable__label {cursor: pointer;display: block;width: 100%;margin-bottom: 0;padding: 0.3em;box-sizing: border-box;text-align: center;}#sk-container-id-2 label.sk-toggleable__label-arrow:before {content: \"▸\";float: left;margin-right: 0.25em;color: #696969;}#sk-container-id-2 label.sk-toggleable__label-arrow:hover:before {color: black;}#sk-container-id-2 div.sk-estimator:hover label.sk-toggleable__label-arrow:before {color: black;}#sk-container-id-2 div.sk-toggleable__content {max-height: 0;max-width: 0;overflow: hidden;text-align: left;background-color: #f0f8ff;}#sk-container-id-2 div.sk-toggleable__content pre {margin: 0.2em;color: black;border-radius: 0.25em;background-color: #f0f8ff;}#sk-container-id-2 input.sk-toggleable__control:checked~div.sk-toggleable__content {max-height: 200px;max-width: 100%;overflow: auto;}#sk-container-id-2 input.sk-toggleable__control:checked~label.sk-toggleable__label-arrow:before {content: \"▾\";}#sk-container-id-2 div.sk-estimator input.sk-toggleable__control:checked~label.sk-toggleable__label {background-color: #d4ebff;}#sk-container-id-2 div.sk-label input.sk-toggleable__control:checked~label.sk-toggleable__label {background-color: #d4ebff;}#sk-container-id-2 input.sk-hidden--visually {border: 0;clip: rect(1px 1px 1px 1px);clip: rect(1px, 1px, 1px, 1px);height: 1px;margin: -1px;overflow: hidden;padding: 0;position: absolute;width: 1px;}#sk-container-id-2 div.sk-estimator {font-family: monospace;background-color: #f0f8ff;border: 1px dotted black;border-radius: 0.25em;box-sizing: border-box;margin-bottom: 0.5em;}#sk-container-id-2 div.sk-estimator:hover {background-color: #d4ebff;}#sk-container-id-2 div.sk-parallel-item::after {content: \"\";width: 100%;border-bottom: 1px solid gray;flex-grow: 1;}#sk-container-id-2 div.sk-label:hover label.sk-toggleable__label {background-color: #d4ebff;}#sk-container-id-2 div.sk-serial::before {content: \"\";position: absolute;border-left: 1px solid gray;box-sizing: border-box;top: 0;bottom: 0;left: 50%;z-index: 0;}#sk-container-id-2 div.sk-serial {display: flex;flex-direction: column;align-items: center;background-color: white;padding-right: 0.2em;padding-left: 0.2em;position: relative;}#sk-container-id-2 div.sk-item {position: relative;z-index: 1;}#sk-container-id-2 div.sk-parallel {display: flex;align-items: stretch;justify-content: center;background-color: white;position: relative;}#sk-container-id-2 div.sk-item::before, #sk-container-id-2 div.sk-parallel-item::before {content: \"\";position: absolute;border-left: 1px solid gray;box-sizing: border-box;top: 0;bottom: 0;left: 50%;z-index: -1;}#sk-container-id-2 div.sk-parallel-item {display: flex;flex-direction: column;z-index: 1;position: relative;background-color: white;}#sk-container-id-2 div.sk-parallel-item:first-child::after {align-self: flex-end;width: 50%;}#sk-container-id-2 div.sk-parallel-item:last-child::after {align-self: flex-start;width: 50%;}#sk-container-id-2 div.sk-parallel-item:only-child::after {width: 0;}#sk-container-id-2 div.sk-dashed-wrapped {border: 1px dashed gray;margin: 0 0.4em 0.5em 0.4em;box-sizing: border-box;padding-bottom: 0.4em;background-color: white;}#sk-container-id-2 div.sk-label label {font-family: monospace;font-weight: bold;display: inline-block;line-height: 1.2em;}#sk-container-id-2 div.sk-label-container {text-align: center;}#sk-container-id-2 div.sk-container {/* jupyter's `normalize.less` sets `[hidden] { display: none; }` but bootstrap.min.css set `[hidden] { display: none !important; }` so we also need the `!important` here to be able to override the default hidden behavior on the sphinx rendered scikit-learn.org. See: https://github.com/scikit-learn/scikit-learn/issues/21755 */display: inline-block !important;position: relative;}#sk-container-id-2 div.sk-text-repr-fallback {display: none;}</style><div id=\"sk-container-id-2\" class=\"sk-top-container\"><div class=\"sk-text-repr-fallback\"><pre>Pipeline(steps=[(&#x27;featureextractor&#x27;, FeatureExtractor()),\n",
       "                (&#x27;standardscaler&#x27;, StandardScaler()),\n",
       "                (&#x27;logisticregression&#x27;, LogisticRegression(max_iter=1000))])</pre><b>In a Jupyter environment, please rerun this cell to show the HTML representation or trust the notebook. <br />On GitHub, the HTML representation is unable to render, please try loading this page with nbviewer.org.</b></div><div class=\"sk-container\" hidden><div class=\"sk-item sk-dashed-wrapped\"><div class=\"sk-label-container\"><div class=\"sk-label sk-toggleable\"><input class=\"sk-toggleable__control sk-hidden--visually\" id=\"sk-estimator-id-5\" type=\"checkbox\" ><label for=\"sk-estimator-id-5\" class=\"sk-toggleable__label sk-toggleable__label-arrow\">Pipeline</label><div class=\"sk-toggleable__content\"><pre>Pipeline(steps=[(&#x27;featureextractor&#x27;, FeatureExtractor()),\n",
       "                (&#x27;standardscaler&#x27;, StandardScaler()),\n",
       "                (&#x27;logisticregression&#x27;, LogisticRegression(max_iter=1000))])</pre></div></div></div><div class=\"sk-serial\"><div class=\"sk-item\"><div class=\"sk-estimator sk-toggleable\"><input class=\"sk-toggleable__control sk-hidden--visually\" id=\"sk-estimator-id-6\" type=\"checkbox\" ><label for=\"sk-estimator-id-6\" class=\"sk-toggleable__label sk-toggleable__label-arrow\">FeatureExtractor</label><div class=\"sk-toggleable__content\"><pre>FeatureExtractor()</pre></div></div></div><div class=\"sk-item\"><div class=\"sk-estimator sk-toggleable\"><input class=\"sk-toggleable__control sk-hidden--visually\" id=\"sk-estimator-id-7\" type=\"checkbox\" ><label for=\"sk-estimator-id-7\" class=\"sk-toggleable__label sk-toggleable__label-arrow\">StandardScaler</label><div class=\"sk-toggleable__content\"><pre>StandardScaler()</pre></div></div></div><div class=\"sk-item\"><div class=\"sk-estimator sk-toggleable\"><input class=\"sk-toggleable__control sk-hidden--visually\" id=\"sk-estimator-id-8\" type=\"checkbox\" ><label for=\"sk-estimator-id-8\" class=\"sk-toggleable__label sk-toggleable__label-arrow\">LogisticRegression</label><div class=\"sk-toggleable__content\"><pre>LogisticRegression(max_iter=1000)</pre></div></div></div></div></div></div></div>"
      ],
      "text/plain": [
       "Pipeline(steps=[('featureextractor', FeatureExtractor()),\n",
       "                ('standardscaler', StandardScaler()),\n",
       "                ('logisticregression', LogisticRegression(max_iter=1000))])"
      ]
     },
     "execution_count": 22,
     "metadata": {},
     "output_type": "execute_result"
    }
   ],
   "source": [
    "model.fit(data_train, labels_train)"
   ]
  },
  {
   "cell_type": "code",
   "execution_count": 30,
   "id": "9c2cfd0f-b95c-4a19-88b3-b9e3bb7516f4",
   "metadata": {},
   "outputs": [],
   "source": [
    "scaler = StandardScaler()\n",
    "train_new = scaler.fit_transform(data_train)"
   ]
  },
  {
   "cell_type": "markdown",
   "id": "302d8f72-5dc1-4606-97aa-9e6f90c23314",
   "metadata": {},
   "source": [
    "# Evaluate"
   ]
  },
  {
   "cell_type": "code",
   "execution_count": 10,
   "id": "0d0b0be8-6476-4314-8143-f6b3e99b2621",
   "metadata": {},
   "outputs": [
    {
     "data": {
      "text/plain": [
       "0.16424689004953327"
      ]
     },
     "execution_count": 10,
     "metadata": {},
     "output_type": "execute_result"
    }
   ],
   "source": [
    "log_loss(labels_test, y_pred)"
   ]
  },
  {
   "cell_type": "code",
   "execution_count": 11,
   "id": "db642484-a157-41e1-a212-c57deacbfdee",
   "metadata": {},
   "outputs": [
    {
     "name": "stdout",
     "output_type": "stream",
     "text": [
      "              precision    recall  f1-score   support\n",
      "\n",
      "           0       0.94      1.00      0.97    191755\n",
      "           1       0.87      0.17      0.28     13819\n",
      "\n",
      "    accuracy                           0.94    205574\n",
      "   macro avg       0.91      0.58      0.62    205574\n",
      "weighted avg       0.94      0.94      0.92    205574\n",
      "\n"
     ]
    }
   ],
   "source": [
    "# using argmax here to convert the probabilities to binary 0/1\n",
    "print(classification_report(labels_test, y_pred.argmax(axis=1)))"
   ]
  },
  {
   "cell_type": "code",
   "execution_count": 12,
   "id": "d164f766-0c8f-42f8-bd17-961e7e9f9614",
   "metadata": {},
   "outputs": [],
   "source": [
    "from sklearn.model_selection import cross_validate\n",
    "from problem import get_cv\n",
    "\n",
    "def evaluation(X, y):\n",
    "    pipe = get_estimator()\n",
    "    cv = get_cv(X, y)\n",
    "    results = cross_validate(\n",
    "        pipe,\n",
    "        X,\n",
    "        y,\n",
    "        scoring=[\"neg_log_loss\"],\n",
    "        cv=cv,\n",
    "        verbose=1,\n",
    "        return_train_score=True,\n",
    "        n_jobs=-1,\n",
    "    )\n",
    "    return results"
   ]
  },
  {
   "cell_type": "code",
   "execution_count": 13,
   "id": "0f28e30c-6e4c-48bd-85ab-bc1ac66d13b3",
   "metadata": {},
   "outputs": [
    {
     "name": "stderr",
     "output_type": "stream",
     "text": [
      "[Parallel(n_jobs=-1)]: Using backend LokyBackend with 4 concurrent workers.\n",
      "[Parallel(n_jobs=-1)]: Done   5 out of   5 | elapsed:   36.9s finished\n"
     ]
    }
   ],
   "source": [
    "results = evaluation(data_train, labels_train)"
   ]
  },
  {
   "cell_type": "code",
   "execution_count": 14,
   "id": "a29363d0-a3bb-4373-9df1-115567c2253d",
   "metadata": {},
   "outputs": [
    {
     "name": "stdout",
     "output_type": "stream",
     "text": [
      "Training score Log Loss: 0.229 +- 0.030\n",
      "Testing score Log Loss: 0.243 +- 0.045 \n",
      "\n"
     ]
    }
   ],
   "source": [
    "print(\n",
    "    \"Training score Log Loss: {:.3f} +- {:.3f}\".format(\n",
    "        -np.mean(results[\"train_neg_log_loss\"]), np.std(results[\"train_neg_log_loss\"])\n",
    "    )\n",
    ")\n",
    "print(\n",
    "    \"Testing score Log Loss: {:.3f} +- {:.3f} \\n\".format(\n",
    "        -np.mean(results[\"test_neg_log_loss\"]), np.std(results[\"test_neg_log_loss\"])\n",
    "    )\n",
    ")"
   ]
  },
  {
   "cell_type": "code",
   "execution_count": 35,
   "id": "bb46487d-48ef-459c-aaf1-9d59bcc50f0e",
   "metadata": {},
   "outputs": [
    {
     "name": "stdout",
     "output_type": "stream",
     "text": [
      "\u001b[38;5;178m\u001b[1mTesting Solar wind classification\u001b[0m\n",
      "\u001b[38;5;178m\u001b[1mReading train and test files from ./data/ ...\u001b[0m\n",
      "\u001b[38;5;178m\u001b[1mReading cv ...\u001b[0m\n",
      "\u001b[38;5;178m\u001b[1mTraining submissions/v2 ...\u001b[0m\n",
      "\u001b[38;5;178m\u001b[1mCV fold 0\u001b[0m\n",
      "^C\n"
     ]
    }
   ],
   "source": [
    "!ramp-test --submission v2"
   ]
  },
  {
   "cell_type": "code",
   "execution_count": 28,
   "id": "84417b06-3c92-4f98-8e55-ee23de5fadd2",
   "metadata": {},
   "outputs": [
    {
     "name": "stdout",
     "output_type": "stream",
     "text": [
      "\u001b[38;5;178m\u001b[1mTesting Solar wind classification\u001b[0m\n",
      "\u001b[38;5;178m\u001b[1mReading train and test files from ./data/ ...\u001b[0m\n",
      "\u001b[38;5;178m\u001b[1mReading cv ...\u001b[0m\n",
      "\u001b[38;5;178m\u001b[1mTraining submissions/starting_kit ...\u001b[0m\n",
      "\u001b[38;5;178m\u001b[1mCV fold 0\u001b[0m\n",
      "\t\u001b[38;5;178m\u001b[1mscore  mixed  pw_ll  pw_prec  pw_rec  ev_prec  ev_rec      time\u001b[0m\n",
      "\t\u001b[38;5;10m\u001b[1mtrain\u001b[0m   \u001b[38;5;10m\u001b[1m0.24\u001b[0m   \u001b[38;5;150m0.16\u001b[0m     \u001b[38;5;150m0.78\u001b[0m    \u001b[38;5;150m0.42\u001b[0m     \u001b[38;5;150m0.23\u001b[0m    \u001b[38;5;150m0.26\u001b[0m  \u001b[38;5;150m9.724659\u001b[0m\n",
      "\t\u001b[38;5;12m\u001b[1mvalid\u001b[0m   \u001b[38;5;12m\u001b[1m0.38\u001b[0m   \u001b[38;5;105m0.31\u001b[0m     \u001b[38;5;105m0.78\u001b[0m    \u001b[38;5;105m0.42\u001b[0m     \u001b[38;5;105m0.24\u001b[0m    \u001b[38;5;105m0.29\u001b[0m  \u001b[38;5;105m0.693141\u001b[0m\n",
      "\t\u001b[38;5;1m\u001b[1mtest\u001b[0m    \u001b[38;5;1m\u001b[1m0.24\u001b[0m   \u001b[38;5;218m0.15\u001b[0m     \u001b[38;5;218m0.91\u001b[0m    \u001b[38;5;218m0.22\u001b[0m     \u001b[38;5;218m0.18\u001b[0m    \u001b[38;5;218m0.09\u001b[0m  \u001b[38;5;218m0.350382\u001b[0m\n",
      "\u001b[38;5;178m\u001b[1mCV fold 1\u001b[0m\n",
      "\t\u001b[38;5;178m\u001b[1mscore  mixed  pw_ll  pw_prec  pw_rec  ev_prec  ev_rec       time\u001b[0m\n",
      "\t\u001b[38;5;10m\u001b[1mtrain\u001b[0m   \u001b[38;5;10m\u001b[1m0.29\u001b[0m   \u001b[38;5;150m0.22\u001b[0m     \u001b[38;5;150m0.78\u001b[0m    \u001b[38;5;150m0.46\u001b[0m     \u001b[38;5;150m0.25\u001b[0m    \u001b[38;5;150m0.31\u001b[0m  \u001b[38;5;150m11.881901\u001b[0m\n",
      "\t\u001b[38;5;12m\u001b[1mvalid\u001b[0m   \u001b[38;5;12m\u001b[1m0.29\u001b[0m   \u001b[38;5;105m\u001b[38;5;105m0.22\u001b[0m\u001b[0m     \u001b[38;5;105m0.74\u001b[0m    \u001b[38;5;105m0.45\u001b[0m     \u001b[38;5;105m\u001b[38;5;105m0.22\u001b[0m\u001b[0m    \u001b[38;5;105m0.28\u001b[0m   \u001b[38;5;105m0.775138\u001b[0m\n",
      "\t\u001b[38;5;1m\u001b[1mtest\u001b[0m    \u001b[38;5;1m\u001b[1m0.24\u001b[0m   \u001b[38;5;218m0.15\u001b[0m     \u001b[38;5;218m0.86\u001b[0m    \u001b[38;5;218m0.26\u001b[0m     \u001b[38;5;218m0.19\u001b[0m    \u001b[38;5;218m0.12\u001b[0m   \u001b[38;5;218m0.326006\u001b[0m\n",
      "\u001b[38;5;178m\u001b[1mCV fold 2\u001b[0m\n",
      "\t\u001b[38;5;178m\u001b[1mscore  mixed  pw_ll  pw_prec  pw_rec  ev_prec  ev_rec      time\u001b[0m\n",
      "\t\u001b[38;5;10m\u001b[1mtrain\u001b[0m   \u001b[38;5;10m\u001b[1m0.30\u001b[0m   \u001b[38;5;150m0.23\u001b[0m     \u001b[38;5;150m0.77\u001b[0m    \u001b[38;5;150m0.43\u001b[0m     \u001b[38;5;150m0.24\u001b[0m    \u001b[38;5;150m0.29\u001b[0m  \u001b[38;5;150m9.023274\u001b[0m\n",
      "\t\u001b[38;5;12m\u001b[1mvalid\u001b[0m   \u001b[38;5;12m\u001b[1m\u001b[38;5;105m0.28\u001b[0m\u001b[0m   \u001b[38;5;105m0.21\u001b[0m     \u001b[38;5;105m0.79\u001b[0m    \u001b[38;5;105m0.43\u001b[0m     \u001b[38;5;12m\u001b[1m\u001b[38;5;105m0.28\u001b[0m\u001b[0m    \u001b[38;5;105m0.31\u001b[0m  \u001b[38;5;105m0.787182\u001b[0m\n",
      "\t\u001b[38;5;1m\u001b[1mtest\u001b[0m    \u001b[38;5;1m\u001b[1m0.23\u001b[0m   \u001b[38;5;218m0.15\u001b[0m     \u001b[38;5;218m0.89\u001b[0m    \u001b[38;5;218m0.25\u001b[0m     \u001b[38;5;218m0.20\u001b[0m    \u001b[38;5;218m0.12\u001b[0m  \u001b[38;5;218m0.363447\u001b[0m\n",
      "\u001b[38;5;178m\u001b[1mCV fold 3\u001b[0m\n",
      "\t\u001b[38;5;178m\u001b[1mscore  mixed  pw_ll  pw_prec  pw_rec  ev_prec  ev_rec       time\u001b[0m\n",
      "\t\u001b[38;5;10m\u001b[1mtrain\u001b[0m   \u001b[38;5;10m\u001b[1m0.32\u001b[0m   \u001b[38;5;150m0.25\u001b[0m     \u001b[38;5;150m0.79\u001b[0m    \u001b[38;5;150m0.46\u001b[0m     \u001b[38;5;150m0.26\u001b[0m    \u001b[38;5;150m0.33\u001b[0m  \u001b[38;5;150m13.061631\u001b[0m\n",
      "\t\u001b[38;5;12m\u001b[1mvalid\u001b[0m   \u001b[38;5;12m\u001b[1m0.25\u001b[0m   \u001b[38;5;105m0.17\u001b[0m     \u001b[38;5;105m0.72\u001b[0m    \u001b[38;5;105m0.40\u001b[0m     \u001b[38;5;105m0.21\u001b[0m    \u001b[38;5;105m0.26\u001b[0m   \u001b[38;5;105m0.933505\u001b[0m\n",
      "\t\u001b[38;5;1m\u001b[1mtest\u001b[0m    \u001b[38;5;1m\u001b[1m0.24\u001b[0m   \u001b[38;5;218m0.15\u001b[0m     \u001b[38;5;218m0.87\u001b[0m    \u001b[38;5;218m0.27\u001b[0m     \u001b[38;5;218m0.22\u001b[0m    \u001b[38;5;218m0.13\u001b[0m   \u001b[38;5;218m0.329537\u001b[0m\n",
      "\u001b[38;5;178m\u001b[1mCV fold 4\u001b[0m\n",
      "\t\u001b[38;5;178m\u001b[1mscore  mixed  pw_ll  pw_prec  pw_rec  ev_prec  ev_rec      time\u001b[0m\n",
      "\t\u001b[38;5;10m\u001b[1mtrain\u001b[0m   \u001b[38;5;10m\u001b[1m0.28\u001b[0m   \u001b[38;5;150m0.21\u001b[0m     \u001b[38;5;150m0.76\u001b[0m    \u001b[38;5;150m0.43\u001b[0m     \u001b[38;5;150m0.25\u001b[0m    \u001b[38;5;150m0.30\u001b[0m  \u001b[38;5;150m8.610902\u001b[0m\n",
      "\t\u001b[38;5;12m\u001b[1mvalid\u001b[0m   \u001b[38;5;12m\u001b[1m0.31\u001b[0m   \u001b[38;5;105m0.23\u001b[0m     \u001b[38;5;105m0.77\u001b[0m    \u001b[38;5;105m0.47\u001b[0m     \u001b[38;5;105m0.22\u001b[0m    \u001b[38;5;105m0.28\u001b[0m  \u001b[38;5;105m0.77\u001b[0m4050\n",
      "\t\u001b[38;5;1m\u001b[1mtest\u001b[0m    \u001b[38;5;1m\u001b[1m0.23\u001b[0m   \u001b[38;5;218m0.15\u001b[0m     \u001b[38;5;218m0.87\u001b[0m    \u001b[38;5;218m0.26\u001b[0m     \u001b[38;5;218m0.19\u001b[0m    \u001b[38;5;218m0.12\u001b[0m  \u001b[38;5;218m0.400892\u001b[0m\n",
      "\u001b[38;5;178m\u001b[1m----------------------------\u001b[0m\n",
      "\u001b[38;5;178m\u001b[1mMean CV scores\u001b[0m\n",
      "\u001b[38;5;178m\u001b[1m----------------------------\u001b[0m\n",
      "\t\u001b[38;5;178m\u001b[1mscore         mixed         pw_ll       pw_prec        pw_rec       ev_prec        ev_rec         time\u001b[0m\n",
      "\t\u001b[38;5;10m\u001b[1mtrain\u001b[0m  \u001b[38;5;10m\u001b[1m0.29\u001b[0m \u001b[38;5;150m\u001b[38;5;150m\u001b[38;5;150m\u001b[38;5;150m\u001b[38;5;150m\u001b[38;5;150m\u001b[38;5;150m±\u001b[0m\u001b[0m\u001b[0m\u001b[0m\u001b[0m\u001b[0m\u001b[0m \u001b[38;5;150m0.027\u001b[0m  \u001b[38;5;150m0.21\u001b[0m \u001b[38;5;150m\u001b[38;5;150m\u001b[38;5;150m\u001b[38;5;150m\u001b[38;5;150m\u001b[38;5;150m\u001b[38;5;150m±\u001b[0m\u001b[0m\u001b[0m\u001b[0m\u001b[0m\u001b[0m\u001b[0m \u001b[38;5;150m0.029\u001b[0m  \u001b[38;5;150m0.78\u001b[0m \u001b[38;5;150m\u001b[38;5;150m\u001b[38;5;150m\u001b[38;5;150m\u001b[38;5;150m\u001b[38;5;150m\u001b[38;5;150m±\u001b[0m\u001b[0m\u001b[0m\u001b[0m\u001b[0m\u001b[0m\u001b[0m \u001b[38;5;150m0.008\u001b[0m  \u001b[38;5;150m0.44\u001b[0m \u001b[38;5;150m\u001b[38;5;150m\u001b[38;5;150m\u001b[38;5;150m\u001b[38;5;150m\u001b[38;5;150m\u001b[38;5;150m±\u001b[0m\u001b[0m\u001b[0m\u001b[0m\u001b[0m\u001b[0m\u001b[0m \u001b[38;5;150m0.016\u001b[0m  \u001b[38;5;150m0.25\u001b[0m \u001b[38;5;150m\u001b[38;5;150m\u001b[38;5;150m\u001b[38;5;150m\u001b[38;5;150m\u001b[38;5;150m\u001b[38;5;150m±\u001b[0m\u001b[0m\u001b[0m\u001b[0m\u001b[0m\u001b[0m\u001b[0m \u001b[38;5;150m0.011\u001b[0m   \u001b[38;5;150m0.3\u001b[0m \u001b[38;5;150m\u001b[38;5;150m\u001b[38;5;150m\u001b[38;5;150m\u001b[38;5;150m\u001b[38;5;150m\u001b[38;5;150m±\u001b[0m\u001b[0m\u001b[0m\u001b[0m\u001b[0m\u001b[0m\u001b[0m \u001b[38;5;150m0.022\u001b[0m  \u001b[38;5;150m10.5\u001b[0m \u001b[38;5;150m\u001b[38;5;150m\u001b[38;5;150m\u001b[38;5;150m\u001b[38;5;150m\u001b[38;5;150m\u001b[38;5;150m±\u001b[0m\u001b[0m\u001b[0m\u001b[0m\u001b[0m\u001b[0m\u001b[0m \u001b[38;5;150m1.72\u001b[0m\n",
      "\t\u001b[38;5;12m\u001b[1mvalid\u001b[0m   \u001b[38;5;12m\u001b[1m0.3\u001b[0m \u001b[38;5;105m\u001b[38;5;105m\u001b[38;5;105m\u001b[38;5;105m\u001b[38;5;105m\u001b[38;5;105m\u001b[38;5;105m±\u001b[0m\u001b[0m\u001b[0m\u001b[0m\u001b[0m\u001b[0m\u001b[0m \u001b[38;5;105m0.045\u001b[0m  \u001b[38;5;105m\u001b[38;5;105m0.23\u001b[0m\u001b[0m \u001b[38;5;105m\u001b[38;5;105m\u001b[38;5;105m\u001b[38;5;105m\u001b[38;5;105m\u001b[38;5;105m\u001b[38;5;105m±\u001b[0m\u001b[0m\u001b[0m\u001b[0m\u001b[0m\u001b[0m\u001b[0m \u001b[38;5;105m0.046\u001b[0m  \u001b[38;5;105m0.76\u001b[0m \u001b[38;5;105m\u001b[38;5;105m\u001b[38;5;105m\u001b[38;5;105m\u001b[38;5;105m\u001b[38;5;105m\u001b[38;5;105m±\u001b[0m\u001b[0m\u001b[0m\u001b[0m\u001b[0m\u001b[0m\u001b[0m \u001b[38;5;105m0.026\u001b[0m  \u001b[38;5;105m0.43\u001b[0m \u001b[38;5;105m\u001b[38;5;105m\u001b[38;5;105m\u001b[38;5;105m\u001b[38;5;105m\u001b[38;5;105m\u001b[38;5;105m±\u001b[0m\u001b[0m\u001b[0m\u001b[0m\u001b[0m\u001b[0m\u001b[0m \u001b[38;5;105m0.024\u001b[0m  \u001b[38;5;105m\u001b[38;5;105m0.23\u001b[0m\u001b[0m \u001b[38;5;105m\u001b[38;5;105m\u001b[38;5;105m\u001b[38;5;105m\u001b[38;5;105m\u001b[38;5;105m\u001b[38;5;105m±\u001b[0m\u001b[0m\u001b[0m\u001b[0m\u001b[0m\u001b[0m\u001b[0m \u001b[38;5;105m0.023\u001b[0m  \u001b[38;5;105m0.28\u001b[0m \u001b[38;5;105m\u001b[38;5;105m\u001b[38;5;105m\u001b[38;5;105m\u001b[38;5;105m\u001b[38;5;105m\u001b[38;5;105m±\u001b[0m\u001b[0m\u001b[0m\u001b[0m\u001b[0m\u001b[0m\u001b[0m \u001b[38;5;105m0.016\u001b[0m   \u001b[38;5;105m0.8\u001b[0m \u001b[38;5;105m\u001b[38;5;105m\u001b[38;5;105m\u001b[38;5;105m\u001b[38;5;105m\u001b[38;5;105m\u001b[38;5;105m±\u001b[0m\u001b[0m\u001b[0m\u001b[0m\u001b[0m\u001b[0m\u001b[0m \u001b[38;5;105m0.08\u001b[0m\n",
      "\t\u001b[38;5;1m\u001b[1mtest\u001b[0m   \u001b[38;5;1m\u001b[1m0.24\u001b[0m \u001b[38;5;218m\u001b[38;5;218m\u001b[38;5;218m\u001b[38;5;218m\u001b[38;5;218m\u001b[38;5;218m\u001b[38;5;218m±\u001b[0m\u001b[0m\u001b[0m\u001b[0m\u001b[0m\u001b[0m\u001b[0m \u001b[38;5;218m\u001b[38;5;218m0.002\u001b[0m\u001b[0m  \u001b[38;5;218m0.15\u001b[0m \u001b[38;5;218m\u001b[38;5;218m\u001b[38;5;218m\u001b[38;5;218m\u001b[38;5;218m\u001b[38;5;218m\u001b[38;5;218m±\u001b[0m\u001b[0m\u001b[0m\u001b[0m\u001b[0m\u001b[0m\u001b[0m \u001b[38;5;218m\u001b[38;5;218m0.002\u001b[0m\u001b[0m  \u001b[38;5;218m0.88\u001b[0m \u001b[38;5;218m\u001b[38;5;218m\u001b[38;5;218m\u001b[38;5;218m\u001b[38;5;218m\u001b[38;5;218m\u001b[38;5;218m±\u001b[0m\u001b[0m\u001b[0m\u001b[0m\u001b[0m\u001b[0m\u001b[0m \u001b[38;5;218m0.018\u001b[0m  \u001b[38;5;218m0.25\u001b[0m \u001b[38;5;218m\u001b[38;5;218m\u001b[38;5;218m\u001b[38;5;218m\u001b[38;5;218m\u001b[38;5;218m\u001b[38;5;218m±\u001b[0m\u001b[0m\u001b[0m\u001b[0m\u001b[0m\u001b[0m\u001b[0m \u001b[38;5;218m0.016\u001b[0m  \u001b[38;5;218m0.19\u001b[0m \u001b[38;5;218m\u001b[38;5;218m\u001b[38;5;218m\u001b[38;5;218m\u001b[38;5;218m\u001b[38;5;218m\u001b[38;5;218m±\u001b[0m\u001b[0m\u001b[0m\u001b[0m\u001b[0m\u001b[0m\u001b[0m \u001b[38;5;218m0.014\u001b[0m  \u001b[38;5;218m0.12\u001b[0m \u001b[38;5;218m\u001b[38;5;218m\u001b[38;5;218m\u001b[38;5;218m\u001b[38;5;218m\u001b[38;5;218m\u001b[38;5;218m±\u001b[0m\u001b[0m\u001b[0m\u001b[0m\u001b[0m\u001b[0m\u001b[0m \u001b[38;5;218m0.013\u001b[0m   \u001b[38;5;218m0.4\u001b[0m \u001b[38;5;218m\u001b[38;5;218m\u001b[38;5;218m\u001b[38;5;218m\u001b[38;5;218m\u001b[38;5;218m\u001b[38;5;218m±\u001b[0m\u001b[0m\u001b[0m\u001b[0m\u001b[0m\u001b[0m\u001b[0m \u001b[38;5;218m0.03\u001b[0m\n",
      "\u001b[38;5;178m\u001b[1m----------------------------\u001b[0m\n",
      "\u001b[38;5;178m\u001b[1mBagged scores\u001b[0m\n",
      "\u001b[38;5;178m\u001b[1m----------------------------\u001b[0m\n",
      "\t\u001b[38;5;178m\u001b[1mscore  mixed  pw_ll  pw_prec  pw_rec  ev_prec  ev_rec\u001b[0m\n",
      "\t\u001b[38;5;12m\u001b[1mvalid\u001b[0m   \u001b[38;5;12m\u001b[1m0.30\u001b[0m   \u001b[38;5;105m0.22\u001b[0m     \u001b[38;5;105m0.76\u001b[0m    \u001b[38;5;105m0.43\u001b[0m     \u001b[38;5;105m0.24\u001b[0m    \u001b[38;5;105m0.29\u001b[0m\n",
      "\t\u001b[38;5;1m\u001b[1mtest\u001b[0m    \u001b[38;5;1m\u001b[1m0.23\u001b[0m   \u001b[38;5;218m0.15\u001b[0m     \u001b[38;5;218m0.89\u001b[0m    \u001b[38;5;218m0.25\u001b[0m     \u001b[38;5;218m0.18\u001b[0m    \u001b[38;5;218m0.11\u001b[0m\n"
     ]
    }
   ],
   "source": [
    "!ramp-test --submission starting_kit"
   ]
  },
  {
   "cell_type": "code",
   "execution_count": null,
   "id": "5e1f3c31-ab5e-4196-a7f4-eb599990d825",
   "metadata": {},
   "outputs": [],
   "source": []
  }
 ],
 "metadata": {
  "kernelspec": {
   "display_name": "solar:Python",
   "language": "python",
   "name": "conda-env-solar-py"
  },
  "language_info": {
   "codemirror_mode": {
    "name": "ipython",
    "version": 3
   },
   "file_extension": ".py",
   "mimetype": "text/x-python",
   "name": "python",
   "nbconvert_exporter": "python",
   "pygments_lexer": "ipython3",
   "version": "3.10.8"
  }
 },
 "nbformat": 4,
 "nbformat_minor": 5
}
