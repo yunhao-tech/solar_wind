{
 "cells": [
  {
   "cell_type": "code",
   "execution_count": 10,
   "id": "3137d85d-92e5-4bcf-b9f6-6d277a91b53d",
   "metadata": {},
   "outputs": [],
   "source": [
    "%matplotlib inline\n",
    "\n",
    "import pandas as pd\n",
    "import matplotlib.pyplot as plt\n",
    "\n",
    "from sklearn.metrics import log_loss, classification_report"
   ]
  },
  {
   "cell_type": "code",
   "execution_count": 9,
   "id": "72978cc3-3f74-4952-b067-df38c1a6f911",
   "metadata": {},
   "outputs": [],
   "source": [
    "from problem import get_train_data, get_test_data\n",
    "\n",
    "data_train, labels_train = get_train_data()\n",
    "data_test, labels_test = get_test_data()"
   ]
  },
  {
   "cell_type": "markdown",
   "id": "bf03de4a-3c11-4e97-9006-570e063a5294",
   "metadata": {},
   "source": [
    "# Model"
   ]
  },
  {
   "cell_type": "code",
   "execution_count": 49,
   "id": "1a3f3b1d-3655-48df-85c9-37d1c17221e2",
   "metadata": {},
   "outputs": [],
   "source": [
    "from sklearn.base import BaseEstimator, ClassifierMixin\n",
    "from sklearn.pipeline import make_pipeline\n",
    "from sklearn.preprocessing import StandardScaler\n",
    "from sklearn.linear_model import LogisticRegression\n",
    "import numpy as np\n",
    "\n",
    "\n",
    "def compute_rolling_std(X_df, features, time_window, center=False):\n",
    "    for feature in features:\n",
    "        name = \"_\".join([feature, time_window, \"std\"])\n",
    "        X_df[name] = X_df[feature].rolling(time_window, center=center).std()\n",
    "        X_df[name] = X_df[name].ffill().bfill()\n",
    "        X_df[name] = X_df[name].astype(X_df[feature].dtype)\n",
    "    return X_df\n",
    "\n",
    "def add_features(X_df):\n",
    "    Alfven_Mach_number = X_df['V'] * 1e12 * np.sqrt(X_df['Np'] * 1.7e-27 * 1e6) * np.sqrt(4e-7*np.pi) / X_df['B']\n",
    "    raw_pressure = X_df['V']**2 * X_df['Np'] * 1.7e-27 * 1e12 * 1e9\n",
    "    X_df['AMach_number'] = Alfven_Mach_number\n",
    "    X_df['raw_pressure'] = raw_pressure\n",
    "    return X_df\n",
    "\n",
    "class FeatureExtractor(BaseEstimator):\n",
    "    def fit(self, X, y):\n",
    "        return self\n",
    "\n",
    "    def transform(self, X):\n",
    "        X = add_features(X)\n",
    "        return compute_rolling_std(X, [\"Beta\", \"Vth\", \"B\", \"Bx\", \"Bz\"], \"2h\")\n",
    "    \n",
    "class PostProcessing(BaseEstimator):\n",
    "    def fit(self, X, y):\n",
    "        return self\n",
    "    \n",
    "    def transform(self, proba):\n",
    "        y_pred = pd.Series(proba[:, 1])\n",
    "        y_pred_smoothed = y_pred.rolling(12, min_periods=0, center=True).quantile(0.90)\n",
    "        return np.swapaxes(np.array([1 - y_pred_smoothed, y_pred_smoothed]), 1, 0)\n",
    "\n",
    "class MyClassifier(BaseEstimator, ClassifierMixin):\n",
    "    def __init__(self):\n",
    "        self.clf = LogisticRegression(max_iter=1000)\n",
    "        \n",
    "    def fit(self, X, y):\n",
    "        return self.clf.fit(X, y)\n",
    "    \n",
    "    def predict(self, X):\n",
    "        proba = self.clf.predict_proba(X)\n",
    "        y_pred = pd.Series(proba[:, 1])\n",
    "        y_pred_smoothed = y_pred.rolling(12, min_periods=0, center=True).quantile(0.90)\n",
    "        proba_smoothed =  np.swapaxes(np.array([1 - y_pred_smoothed, y_pred_smoothed]), 1, 0)\n",
    "        return np.argmax(proba_smoothed, axis=0)\n",
    "    \n",
    "    def predict_proba(self, X):\n",
    "        return self.clf.predict_proba(X)\n",
    "\n",
    "def get_estimator():\n",
    "\n",
    "    feature_extractor = FeatureExtractor()\n",
    "    classifier = MyClassifier()\n",
    "    pipe = make_pipeline(feature_extractor, StandardScaler(), classifier)\n",
    "    \n",
    "    return pipe"
   ]
  },
  {
   "cell_type": "code",
   "execution_count": 53,
   "id": "11381e7c-14ca-4da3-a2ff-e778051581c5",
   "metadata": {},
   "outputs": [],
   "source": [
    "class MyClassifier(BaseEstimator, ClassifierMixin):\n",
    "    def __init__(self):\n",
    "        self.clf = LogisticRegression(max_iter=1000)\n",
    "        \n",
    "    def fit(self, X, y):\n",
    "        return self.clf.fit(X, y)\n",
    "    \n",
    "    def predict(self, X):\n",
    "        proba = self.clf.predict_proba(X)\n",
    "        y_pred = pd.Series(proba[:, 1])\n",
    "        y_pred_smoothed = y_pred.rolling(12, min_periods=0, center=True).quantile(0.90)\n",
    "        proba_smoothed =  np.swapaxes(np.array([1 - y_pred_smoothed, y_pred_smoothed]), 1, 0)\n",
    "        return np.argmax(proba_smoothed, axis=0)\n",
    "    \n",
    "    def predict_proba(self, X):\n",
    "        proba = self.clf.predict_proba(X)\n",
    "        y_pred = pd.Series(proba[:, 1])\n",
    "        y_pred_smoothed = y_pred.rolling(12, min_periods=0, center=True).quantile(0.90)\n",
    "        proba_smoothed =  np.swapaxes(np.array([1 - y_pred_smoothed, y_pred_smoothed]), 1, 0)\n",
    "        return proba_smoothed"
   ]
  },
  {
   "cell_type": "code",
   "execution_count": 39,
   "id": "4105e4bf-2523-4b8c-adbc-39758aad87c7",
   "metadata": {},
   "outputs": [],
   "source": [
    "from sklearn.compose import TransformedTargetRegressor\n",
    "\n",
    "def transform(proba):\n",
    "    print(proba.shape)\n",
    "    y_pred = pd.Series(proba[:, 1])\n",
    "    y_pred_smoothed = y_pred.rolling(12, min_periods=0, center=True).quantile(0.90)\n",
    "    proba_smoothed =  np.swapaxes(np.array([1 - y_pred_smoothed, y_pred_smoothed]), 1, 0)\n",
    "    return np.argmax(proba_smoothed, axis=0)\n",
    "\n",
    "tt = TransformedTargetRegressor(regressor=MyClassifier(),\n",
    "                                func=None, inverse_func=transform)"
   ]
  },
  {
   "cell_type": "code",
   "execution_count": 54,
   "id": "f4cc004c-395a-44ac-929f-166ca8421341",
   "metadata": {},
   "outputs": [],
   "source": [
    "model = get_estimator()"
   ]
  },
  {
   "cell_type": "code",
   "execution_count": 55,
   "id": "df8b4309-d7cf-4c89-9d53-a949523c2e20",
   "metadata": {
    "tags": []
   },
   "outputs": [
    {
     "data": {
      "text/html": [
       "<style>#sk-container-id-4 {color: black;background-color: white;}#sk-container-id-4 pre{padding: 0;}#sk-container-id-4 div.sk-toggleable {background-color: white;}#sk-container-id-4 label.sk-toggleable__label {cursor: pointer;display: block;width: 100%;margin-bottom: 0;padding: 0.3em;box-sizing: border-box;text-align: center;}#sk-container-id-4 label.sk-toggleable__label-arrow:before {content: \"▸\";float: left;margin-right: 0.25em;color: #696969;}#sk-container-id-4 label.sk-toggleable__label-arrow:hover:before {color: black;}#sk-container-id-4 div.sk-estimator:hover label.sk-toggleable__label-arrow:before {color: black;}#sk-container-id-4 div.sk-toggleable__content {max-height: 0;max-width: 0;overflow: hidden;text-align: left;background-color: #f0f8ff;}#sk-container-id-4 div.sk-toggleable__content pre {margin: 0.2em;color: black;border-radius: 0.25em;background-color: #f0f8ff;}#sk-container-id-4 input.sk-toggleable__control:checked~div.sk-toggleable__content {max-height: 200px;max-width: 100%;overflow: auto;}#sk-container-id-4 input.sk-toggleable__control:checked~label.sk-toggleable__label-arrow:before {content: \"▾\";}#sk-container-id-4 div.sk-estimator input.sk-toggleable__control:checked~label.sk-toggleable__label {background-color: #d4ebff;}#sk-container-id-4 div.sk-label input.sk-toggleable__control:checked~label.sk-toggleable__label {background-color: #d4ebff;}#sk-container-id-4 input.sk-hidden--visually {border: 0;clip: rect(1px 1px 1px 1px);clip: rect(1px, 1px, 1px, 1px);height: 1px;margin: -1px;overflow: hidden;padding: 0;position: absolute;width: 1px;}#sk-container-id-4 div.sk-estimator {font-family: monospace;background-color: #f0f8ff;border: 1px dotted black;border-radius: 0.25em;box-sizing: border-box;margin-bottom: 0.5em;}#sk-container-id-4 div.sk-estimator:hover {background-color: #d4ebff;}#sk-container-id-4 div.sk-parallel-item::after {content: \"\";width: 100%;border-bottom: 1px solid gray;flex-grow: 1;}#sk-container-id-4 div.sk-label:hover label.sk-toggleable__label {background-color: #d4ebff;}#sk-container-id-4 div.sk-serial::before {content: \"\";position: absolute;border-left: 1px solid gray;box-sizing: border-box;top: 0;bottom: 0;left: 50%;z-index: 0;}#sk-container-id-4 div.sk-serial {display: flex;flex-direction: column;align-items: center;background-color: white;padding-right: 0.2em;padding-left: 0.2em;position: relative;}#sk-container-id-4 div.sk-item {position: relative;z-index: 1;}#sk-container-id-4 div.sk-parallel {display: flex;align-items: stretch;justify-content: center;background-color: white;position: relative;}#sk-container-id-4 div.sk-item::before, #sk-container-id-4 div.sk-parallel-item::before {content: \"\";position: absolute;border-left: 1px solid gray;box-sizing: border-box;top: 0;bottom: 0;left: 50%;z-index: -1;}#sk-container-id-4 div.sk-parallel-item {display: flex;flex-direction: column;z-index: 1;position: relative;background-color: white;}#sk-container-id-4 div.sk-parallel-item:first-child::after {align-self: flex-end;width: 50%;}#sk-container-id-4 div.sk-parallel-item:last-child::after {align-self: flex-start;width: 50%;}#sk-container-id-4 div.sk-parallel-item:only-child::after {width: 0;}#sk-container-id-4 div.sk-dashed-wrapped {border: 1px dashed gray;margin: 0 0.4em 0.5em 0.4em;box-sizing: border-box;padding-bottom: 0.4em;background-color: white;}#sk-container-id-4 div.sk-label label {font-family: monospace;font-weight: bold;display: inline-block;line-height: 1.2em;}#sk-container-id-4 div.sk-label-container {text-align: center;}#sk-container-id-4 div.sk-container {/* jupyter's `normalize.less` sets `[hidden] { display: none; }` but bootstrap.min.css set `[hidden] { display: none !important; }` so we also need the `!important` here to be able to override the default hidden behavior on the sphinx rendered scikit-learn.org. See: https://github.com/scikit-learn/scikit-learn/issues/21755 */display: inline-block !important;position: relative;}#sk-container-id-4 div.sk-text-repr-fallback {display: none;}</style><div id=\"sk-container-id-4\" class=\"sk-top-container\"><div class=\"sk-text-repr-fallback\"><pre>Pipeline(steps=[(&#x27;featureextractor&#x27;, FeatureExtractor()),\n",
       "                (&#x27;standardscaler&#x27;, StandardScaler()),\n",
       "                (&#x27;myclassifier&#x27;, MyClassifier())])</pre><b>In a Jupyter environment, please rerun this cell to show the HTML representation or trust the notebook. <br />On GitHub, the HTML representation is unable to render, please try loading this page with nbviewer.org.</b></div><div class=\"sk-container\" hidden><div class=\"sk-item sk-dashed-wrapped\"><div class=\"sk-label-container\"><div class=\"sk-label sk-toggleable\"><input class=\"sk-toggleable__control sk-hidden--visually\" id=\"sk-estimator-id-7\" type=\"checkbox\" ><label for=\"sk-estimator-id-7\" class=\"sk-toggleable__label sk-toggleable__label-arrow\">Pipeline</label><div class=\"sk-toggleable__content\"><pre>Pipeline(steps=[(&#x27;featureextractor&#x27;, FeatureExtractor()),\n",
       "                (&#x27;standardscaler&#x27;, StandardScaler()),\n",
       "                (&#x27;myclassifier&#x27;, MyClassifier())])</pre></div></div></div><div class=\"sk-serial\"><div class=\"sk-item\"><div class=\"sk-estimator sk-toggleable\"><input class=\"sk-toggleable__control sk-hidden--visually\" id=\"sk-estimator-id-8\" type=\"checkbox\" ><label for=\"sk-estimator-id-8\" class=\"sk-toggleable__label sk-toggleable__label-arrow\">FeatureExtractor</label><div class=\"sk-toggleable__content\"><pre>FeatureExtractor()</pre></div></div></div><div class=\"sk-item\"><div class=\"sk-estimator sk-toggleable\"><input class=\"sk-toggleable__control sk-hidden--visually\" id=\"sk-estimator-id-9\" type=\"checkbox\" ><label for=\"sk-estimator-id-9\" class=\"sk-toggleable__label sk-toggleable__label-arrow\">StandardScaler</label><div class=\"sk-toggleable__content\"><pre>StandardScaler()</pre></div></div></div><div class=\"sk-item\"><div class=\"sk-estimator sk-toggleable\"><input class=\"sk-toggleable__control sk-hidden--visually\" id=\"sk-estimator-id-10\" type=\"checkbox\" ><label for=\"sk-estimator-id-10\" class=\"sk-toggleable__label sk-toggleable__label-arrow\">MyClassifier</label><div class=\"sk-toggleable__content\"><pre>MyClassifier()</pre></div></div></div></div></div></div></div>"
      ],
      "text/plain": [
       "Pipeline(steps=[('featureextractor', FeatureExtractor()),\n",
       "                ('standardscaler', StandardScaler()),\n",
       "                ('myclassifier', MyClassifier())])"
      ]
     },
     "execution_count": 55,
     "metadata": {},
     "output_type": "execute_result"
    }
   ],
   "source": [
    "model.fit(data_train, labels_train)"
   ]
  },
  {
   "cell_type": "code",
   "execution_count": 56,
   "id": "5e1e4b1d-ad69-4a23-acba-aae54d6fae56",
   "metadata": {},
   "outputs": [],
   "source": [
    "y_pred = model.predict_proba(data_test)"
   ]
  },
  {
   "cell_type": "markdown",
   "id": "302d8f72-5dc1-4606-97aa-9e6f90c23314",
   "metadata": {
    "tags": []
   },
   "source": [
    "# Evaluate"
   ]
  },
  {
   "cell_type": "code",
   "execution_count": 58,
   "id": "84417b06-3c92-4f98-8e55-ee23de5fadd2",
   "metadata": {
    "tags": []
   },
   "outputs": [
    {
     "name": "stdout",
     "output_type": "stream",
     "text": [
      "\u001b[38;5;178m\u001b[1mTesting Solar wind classification\u001b[0m\n",
      "\u001b[38;5;178m\u001b[1mReading train and test files from ./data/ ...\u001b[0m\n",
      "\u001b[38;5;178m\u001b[1mReading cv ...\u001b[0m\n",
      "\u001b[38;5;178m\u001b[1mTraining submissions/v2 ...\u001b[0m\n",
      "\u001b[38;5;178m\u001b[1mCV fold 0\u001b[0m\n",
      "\t\u001b[38;5;178m\u001b[1mscore  mixed  pw_ll  pw_prec  pw_rec  ev_prec  ev_rec      time\u001b[0m\n",
      "\t\u001b[38;5;10m\u001b[1mtrain\u001b[0m   \u001b[38;5;10m\u001b[1m\u001b[38;5;150m0.24\u001b[0m\u001b[0m   \u001b[38;5;150m0.16\u001b[0m     \u001b[38;5;150m0.78\u001b[0m    \u001b[38;5;150m0.43\u001b[0m     \u001b[38;5;10m\u001b[1m\u001b[38;5;150m0.24\u001b[0m\u001b[0m    \u001b[38;5;150m0.27\u001b[0m  \u001b[38;5;150m8.261065\u001b[0m\n",
      "\t\u001b[38;5;12m\u001b[1mvalid\u001b[0m   \u001b[38;5;12m\u001b[1m0.38\u001b[0m   \u001b[38;5;105m0.31\u001b[0m     \u001b[38;5;105m0.78\u001b[0m    \u001b[38;5;105m0.42\u001b[0m     \u001b[38;5;105m0.24\u001b[0m    \u001b[38;5;105m0.29\u001b[0m  \u001b[38;5;105m0.710674\u001b[0m\n",
      "\t\u001b[38;5;1m\u001b[1mtest\u001b[0m    \u001b[38;5;1m\u001b[1m0.23\u001b[0m   \u001b[38;5;218m0.15\u001b[0m     \u001b[38;5;218m0.91\u001b[0m    \u001b[38;5;218m0.22\u001b[0m     \u001b[38;5;218m0.17\u001b[0m    \u001b[38;5;218m0.09\u001b[0m  \u001b[38;5;218m0.326175\u001b[0m\n",
      "\u001b[38;5;178m\u001b[1mCV fold 1\u001b[0m\n",
      "\t\u001b[38;5;178m\u001b[1mscore  mixed  pw_ll  pw_prec  pw_rec  ev_prec  ev_rec       time\u001b[0m\n",
      "\t\u001b[38;5;10m\u001b[1mtrain\u001b[0m   \u001b[38;5;10m\u001b[1m0.29\u001b[0m   \u001b[38;5;150m0.22\u001b[0m     \u001b[38;5;150m0.78\u001b[0m    \u001b[38;5;150m0.46\u001b[0m     \u001b[38;5;150m0.24\u001b[0m    \u001b[38;5;150m0.30\u001b[0m  \u001b[38;5;150m14.052862\u001b[0m\n",
      "\t\u001b[38;5;12m\u001b[1mvalid\u001b[0m   \u001b[38;5;12m\u001b[1m\u001b[38;5;105m0.29\u001b[0m\u001b[0m   \u001b[38;5;105m0.22\u001b[0m     \u001b[38;5;105m0.73\u001b[0m    \u001b[38;5;105m0.45\u001b[0m     \u001b[38;5;105m0.23\u001b[0m    \u001b[38;5;12m\u001b[1m\u001b[38;5;105m0.29\u001b[0m\u001b[0m   \u001b[38;5;105m0.813627\u001b[0m\n",
      "\t\u001b[38;5;1m\u001b[1mtest\u001b[0m    \u001b[38;5;1m\u001b[1m0.24\u001b[0m   \u001b[38;5;218m0.15\u001b[0m     \u001b[38;5;218m0.85\u001b[0m    \u001b[38;5;218m0.26\u001b[0m     \u001b[38;5;218m0.19\u001b[0m    \u001b[38;5;218m0.12\u001b[0m   \u001b[38;5;218m0.317172\u001b[0m\n",
      "\u001b[38;5;178m\u001b[1mCV fold 2\u001b[0m\n",
      "\t\u001b[38;5;178m\u001b[1mscore  mixed  pw_ll  pw_prec  pw_rec  ev_prec  ev_rec      time\u001b[0m\n",
      "\t\u001b[38;5;10m\u001b[1mtrain\u001b[0m   \u001b[38;5;10m\u001b[1m0.30\u001b[0m   \u001b[38;5;150m\u001b[38;5;150m0.23\u001b[0m\u001b[0m     \u001b[38;5;150m0.77\u001b[0m    \u001b[38;5;150m0.44\u001b[0m     \u001b[38;5;150m\u001b[38;5;150m0.23\u001b[0m\u001b[0m    \u001b[38;5;150m0.28\u001b[0m  \u001b[38;5;150m8.296953\u001b[0m\n",
      "\t\u001b[38;5;12m\u001b[1mvalid\u001b[0m   \u001b[38;5;12m\u001b[1m0.28\u001b[0m   \u001b[38;5;105m0.21\u001b[0m     \u001b[38;5;105m0.79\u001b[0m    \u001b[38;5;105m0.43\u001b[0m     \u001b[38;5;105m0.25\u001b[0m    \u001b[38;5;105m0.30\u001b[0m  \u001b[38;5;105m0.723944\u001b[0m\n",
      "\t\u001b[38;5;1m\u001b[1mtest\u001b[0m    \u001b[38;5;1m\u001b[1m0.24\u001b[0m   \u001b[38;5;218m0.15\u001b[0m     \u001b[38;5;218m0.90\u001b[0m    \u001b[38;5;218m0.25\u001b[0m     \u001b[38;5;218m0.18\u001b[0m    \u001b[38;5;218m0.10\u001b[0m  \u001b[38;5;218m0.463221\u001b[0m\n",
      "\u001b[38;5;178m\u001b[1mCV fold 3\u001b[0m\n",
      "\t\u001b[38;5;178m\u001b[1mscore  mixed  pw_ll  pw_prec  pw_rec  ev_prec  ev_rec       time\u001b[0m\n",
      "\t\u001b[38;5;10m\u001b[1mtrain\u001b[0m   \u001b[38;5;10m\u001b[1m\u001b[38;5;150m0.32\u001b[0m\u001b[0m   \u001b[38;5;150m\u001b[38;5;150m0.25\u001b[0m\u001b[0m     \u001b[38;5;150m0.79\u001b[0m    \u001b[38;5;150m0.46\u001b[0m     \u001b[38;5;150m\u001b[38;5;150m0.25\u001b[0m\u001b[0m    \u001b[38;5;10m\u001b[1m\u001b[38;5;150m0.32\u001b[0m\u001b[0m  \u001b[38;5;150m13.238203\u001b[0m\n",
      "\t\u001b[38;5;12m\u001b[1mvalid\u001b[0m   \u001b[38;5;12m\u001b[1m0.24\u001b[0m   \u001b[38;5;105m0.17\u001b[0m     \u001b[38;5;105m0.72\u001b[0m    \u001b[38;5;105m0.41\u001b[0m     \u001b[38;5;105m0.22\u001b[0m    \u001b[38;5;105m0.27\u001b[0m   \u001b[38;5;105m1.145220\u001b[0m\n",
      "\t\u001b[38;5;1m\u001b[1mtest\u001b[0m    \u001b[38;5;1m\u001b[1m0.24\u001b[0m   \u001b[38;5;218m0.15\u001b[0m     \u001b[38;5;218m0.87\u001b[0m    \u001b[38;5;218m0.27\u001b[0m     \u001b[38;5;218m0.21\u001b[0m    \u001b[38;5;218m0.13\u001b[0m   \u001b[38;5;218m0.415658\u001b[0m\n",
      "\u001b[38;5;178m\u001b[1mCV fold 4\u001b[0m\n",
      "\t\u001b[38;5;178m\u001b[1mscore  mixed  pw_ll  pw_prec  pw_rec  ev_prec  ev_rec      time\u001b[0m\n",
      "\t\u001b[38;5;10m\u001b[1mtrain\u001b[0m   \u001b[38;5;10m\u001b[1m0.28\u001b[0m   \u001b[38;5;150m0.21\u001b[0m     \u001b[38;5;150m0.77\u001b[0m    \u001b[38;5;150m0.43\u001b[0m     \u001b[38;5;150m0.26\u001b[0m    \u001b[38;5;150m0.31\u001b[0m  \u001b[38;5;150m9.504922\u001b[0m\n",
      "\t\u001b[38;5;12m\u001b[1mvalid\u001b[0m   \u001b[38;5;12m\u001b[1m0.30\u001b[0m   \u001b[38;5;105m0.23\u001b[0m     \u001b[38;5;105m0.77\u001b[0m    \u001b[38;5;105m0.47\u001b[0m     \u001b[38;5;105m0.21\u001b[0m    \u001b[38;5;105m0.28\u001b[0m  \u001b[38;5;105m0.886897\u001b[0m\n",
      "\t\u001b[38;5;1m\u001b[1mtest\u001b[0m    \u001b[38;5;1m\u001b[1m0.23\u001b[0m   \u001b[38;5;218m0.15\u001b[0m     \u001b[38;5;218m0.87\u001b[0m    \u001b[38;5;218m0.26\u001b[0m     \u001b[38;5;218m0.18\u001b[0m    \u001b[38;5;218m0.11\u001b[0m  \u001b[38;5;218m0.318979\u001b[0m\n",
      "\u001b[38;5;178m\u001b[1m----------------------------\u001b[0m\n",
      "\u001b[38;5;178m\u001b[1mMean CV scores\u001b[0m\n",
      "\u001b[38;5;178m\u001b[1m----------------------------\u001b[0m\n",
      "\t\u001b[38;5;178m\u001b[1mscore         mixed         pw_ll       pw_prec        pw_rec       ev_prec        ev_rec         time\u001b[0m\n",
      "\t\u001b[38;5;10m\u001b[1mtrain\u001b[0m  \u001b[38;5;10m\u001b[1m\u001b[38;5;150m0.29\u001b[0m\u001b[0m \u001b[38;5;150m\u001b[38;5;150m\u001b[38;5;150m\u001b[38;5;150m\u001b[38;5;150m\u001b[38;5;150m\u001b[38;5;150m±\u001b[0m\u001b[0m\u001b[0m\u001b[0m\u001b[0m\u001b[0m\u001b[0m \u001b[38;5;150m0.028\u001b[0m  \u001b[38;5;150m0.21\u001b[0m \u001b[38;5;150m\u001b[38;5;150m\u001b[38;5;150m\u001b[38;5;150m\u001b[38;5;150m\u001b[38;5;150m\u001b[38;5;150m±\u001b[0m\u001b[0m\u001b[0m\u001b[0m\u001b[0m\u001b[0m\u001b[0m \u001b[38;5;150m0.029\u001b[0m  \u001b[38;5;150m0.78\u001b[0m \u001b[38;5;150m\u001b[38;5;150m\u001b[38;5;150m\u001b[38;5;150m\u001b[38;5;150m\u001b[38;5;150m\u001b[38;5;150m±\u001b[0m\u001b[0m\u001b[0m\u001b[0m\u001b[0m\u001b[0m\u001b[0m \u001b[38;5;150m0.008\u001b[0m  \u001b[38;5;150m0.45\u001b[0m \u001b[38;5;150m\u001b[38;5;150m\u001b[38;5;150m\u001b[38;5;150m\u001b[38;5;150m\u001b[38;5;150m\u001b[38;5;150m±\u001b[0m\u001b[0m\u001b[0m\u001b[0m\u001b[0m\u001b[0m\u001b[0m \u001b[38;5;150m\u001b[38;5;150m0.01\u001b[0m5\u001b[0m   \u001b[38;5;150m0.24\u001b[0m \u001b[38;5;150m\u001b[38;5;150m\u001b[38;5;150m\u001b[38;5;150m\u001b[38;5;150m\u001b[38;5;150m\u001b[38;5;150m±\u001b[0m\u001b[0m\u001b[0m\u001b[0m\u001b[0m\u001b[0m\u001b[0m \u001b[38;5;150m0.01\u001b[0m  \u001b[38;5;10m\u001b[1m\u001b[38;5;150m0.29\u001b[0m\u001b[0m \u001b[38;5;150m\u001b[38;5;150m\u001b[38;5;150m\u001b[38;5;150m\u001b[38;5;150m\u001b[38;5;150m\u001b[38;5;150m±\u001b[0m\u001b[0m\u001b[0m\u001b[0m\u001b[0m\u001b[0m\u001b[0m \u001b[38;5;150m0.01\u001b[0m9  \u001b[38;5;150m10.7\u001b[0m \u001b[38;5;150m\u001b[38;5;150m\u001b[38;5;150m\u001b[38;5;150m\u001b[38;5;150m\u001b[38;5;150m\u001b[38;5;150m±\u001b[0m\u001b[0m\u001b[0m\u001b[0m\u001b[0m\u001b[0m\u001b[0m \u001b[38;5;150m2.48\u001b[0m\n",
      "\t\u001b[38;5;12m\u001b[1mvalid\u001b[0m   \u001b[38;5;12m\u001b[1m0.3\u001b[0m \u001b[38;5;105m\u001b[38;5;105m\u001b[38;5;105m\u001b[38;5;105m\u001b[38;5;105m\u001b[38;5;105m\u001b[38;5;105m±\u001b[0m\u001b[0m\u001b[0m\u001b[0m\u001b[0m\u001b[0m\u001b[0m \u001b[38;5;105m0.045\u001b[0m  \u001b[38;5;105m\u001b[38;5;105m0.23\u001b[0m\u001b[0m \u001b[38;5;105m\u001b[38;5;105m\u001b[38;5;105m\u001b[38;5;105m\u001b[38;5;105m\u001b[38;5;105m\u001b[38;5;105m±\u001b[0m\u001b[0m\u001b[0m\u001b[0m\u001b[0m\u001b[0m\u001b[0m \u001b[38;5;105m0.046\u001b[0m  \u001b[38;5;105m0.76\u001b[0m \u001b[38;5;105m\u001b[38;5;105m\u001b[38;5;105m\u001b[38;5;105m\u001b[38;5;105m\u001b[38;5;105m\u001b[38;5;105m±\u001b[0m\u001b[0m\u001b[0m\u001b[0m\u001b[0m\u001b[0m\u001b[0m \u001b[38;5;105m0.027\u001b[0m  \u001b[38;5;105m0.44\u001b[0m \u001b[38;5;105m\u001b[38;5;105m\u001b[38;5;105m\u001b[38;5;105m\u001b[38;5;105m\u001b[38;5;105m\u001b[38;5;105m±\u001b[0m\u001b[0m\u001b[0m\u001b[0m\u001b[0m\u001b[0m\u001b[0m \u001b[38;5;105m0.025\u001b[0m  \u001b[38;5;105m\u001b[38;5;105m0.23\u001b[0m\u001b[0m \u001b[38;5;105m\u001b[38;5;105m\u001b[38;5;105m\u001b[38;5;105m\u001b[38;5;105m\u001b[38;5;105m\u001b[38;5;105m±\u001b[0m\u001b[0m\u001b[0m\u001b[0m\u001b[0m\u001b[0m\u001b[0m \u001b[38;5;105m0.015\u001b[0m  \u001b[38;5;105m0.29\u001b[0m \u001b[38;5;105m\u001b[38;5;105m\u001b[38;5;105m\u001b[38;5;105m\u001b[38;5;105m\u001b[38;5;105m\u001b[38;5;105m±\u001b[0m\u001b[0m\u001b[0m\u001b[0m\u001b[0m\u001b[0m\u001b[0m \u001b[38;5;105m0.011\u001b[0m   \u001b[38;5;105m0.9\u001b[0m \u001b[38;5;105m\u001b[38;5;105m\u001b[38;5;105m\u001b[38;5;105m\u001b[38;5;105m\u001b[38;5;105m\u001b[38;5;105m±\u001b[0m\u001b[0m\u001b[0m\u001b[0m\u001b[0m\u001b[0m\u001b[0m \u001b[38;5;105m0.16\u001b[0m\n",
      "\t\u001b[38;5;1m\u001b[1mtest\u001b[0m   \u001b[38;5;1m\u001b[1m0.24\u001b[0m \u001b[38;5;218m\u001b[38;5;218m\u001b[38;5;218m\u001b[38;5;218m\u001b[38;5;218m\u001b[38;5;218m\u001b[38;5;218m±\u001b[0m\u001b[0m\u001b[0m\u001b[0m\u001b[0m\u001b[0m\u001b[0m \u001b[38;5;218m0.001\u001b[0m  \u001b[38;5;218m0.15\u001b[0m \u001b[38;5;218m\u001b[38;5;218m\u001b[38;5;218m\u001b[38;5;218m\u001b[38;5;218m\u001b[38;5;218m\u001b[38;5;218m±\u001b[0m\u001b[0m\u001b[0m\u001b[0m\u001b[0m\u001b[0m\u001b[0m \u001b[38;5;218m0.002\u001b[0m   \u001b[38;5;218m0.88\u001b[0m \u001b[38;5;218m\u001b[38;5;218m\u001b[38;5;218m\u001b[38;5;218m\u001b[38;5;218m\u001b[38;5;218m\u001b[38;5;218m±\u001b[0m\u001b[0m\u001b[0m\u001b[0m\u001b[0m\u001b[0m\u001b[0m \u001b[38;5;218m0.02\u001b[0m  \u001b[38;5;218m0.25\u001b[0m \u001b[38;5;218m\u001b[38;5;218m\u001b[38;5;218m\u001b[38;5;218m\u001b[38;5;218m\u001b[38;5;218m\u001b[38;5;218m±\u001b[0m\u001b[0m\u001b[0m\u001b[0m\u001b[0m\u001b[0m\u001b[0m \u001b[38;5;218m0.016\u001b[0m  \u001b[38;5;218m0.19\u001b[0m \u001b[38;5;218m\u001b[38;5;218m\u001b[38;5;218m\u001b[38;5;218m\u001b[38;5;218m\u001b[38;5;218m\u001b[38;5;218m±\u001b[0m\u001b[0m\u001b[0m\u001b[0m\u001b[0m\u001b[0m\u001b[0m \u001b[38;5;218m\u001b[38;5;218m0.013\u001b[0m\u001b[0m  \u001b[38;5;218m0.11\u001b[0m \u001b[38;5;218m\u001b[38;5;218m\u001b[38;5;218m\u001b[38;5;218m\u001b[38;5;218m\u001b[38;5;218m\u001b[38;5;218m±\u001b[0m\u001b[0m\u001b[0m\u001b[0m\u001b[0m\u001b[0m\u001b[0m \u001b[38;5;218m\u001b[38;5;218m0.013\u001b[0m\u001b[0m   \u001b[38;5;218m0.4\u001b[0m \u001b[38;5;218m\u001b[38;5;218m\u001b[38;5;218m\u001b[38;5;218m\u001b[38;5;218m\u001b[38;5;218m\u001b[38;5;218m±\u001b[0m\u001b[0m\u001b[0m\u001b[0m\u001b[0m\u001b[0m\u001b[0m \u001b[38;5;218m0.06\u001b[0m\n",
      "\u001b[38;5;178m\u001b[1m----------------------------\u001b[0m\n",
      "\u001b[38;5;178m\u001b[1mBagged scores\u001b[0m\n",
      "\u001b[38;5;178m\u001b[1m----------------------------\u001b[0m\n",
      "\t\u001b[38;5;178m\u001b[1mscore  mixed  pw_ll  pw_prec  pw_rec  ev_prec  ev_rec\u001b[0m\n",
      "\t\u001b[38;5;12m\u001b[1mvalid\u001b[0m   \u001b[38;5;12m\u001b[1m0.30\u001b[0m   \u001b[38;5;105m0.22\u001b[0m     \u001b[38;5;105m0.76\u001b[0m    \u001b[38;5;105m0.44\u001b[0m     \u001b[38;5;105m0.23\u001b[0m    \u001b[38;5;105m0.29\u001b[0m\n",
      "\t\u001b[38;5;1m\u001b[1mtest\u001b[0m    \u001b[38;5;1m\u001b[1m0.23\u001b[0m   \u001b[38;5;218m0.15\u001b[0m     \u001b[38;5;218m0.89\u001b[0m    \u001b[38;5;218m0.25\u001b[0m     \u001b[38;5;218m0.19\u001b[0m    \u001b[38;5;218m0.11\u001b[0m\n"
     ]
    }
   ],
   "source": [
    "!ramp-test --submission v2"
   ]
  },
  {
   "cell_type": "code",
   "execution_count": null,
   "id": "5e1f3c31-ab5e-4196-a7f4-eb599990d825",
   "metadata": {},
   "outputs": [],
   "source": []
  }
 ],
 "metadata": {
  "kernelspec": {
   "display_name": "solar:Python",
   "language": "python",
   "name": "conda-env-solar-py"
  },
  "language_info": {
   "codemirror_mode": {
    "name": "ipython",
    "version": 3
   },
   "file_extension": ".py",
   "mimetype": "text/x-python",
   "name": "python",
   "nbconvert_exporter": "python",
   "pygments_lexer": "ipython3",
   "version": "3.10.8"
  }
 },
 "nbformat": 4,
 "nbformat_minor": 5
}
